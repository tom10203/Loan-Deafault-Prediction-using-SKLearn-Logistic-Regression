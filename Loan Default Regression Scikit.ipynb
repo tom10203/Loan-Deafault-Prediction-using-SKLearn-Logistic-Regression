{
 "cells": [
  {
   "cell_type": "markdown",
   "id": "54c561ec",
   "metadata": {},
   "source": [
    "# Import the necessary libraries"
   ]
  },
  {
   "cell_type": "code",
   "execution_count": 43,
   "id": "f352c880",
   "metadata": {},
   "outputs": [],
   "source": [
    "import pandas as pd\n",
    "from sklearn.linear_model import LogisticRegression\n",
    "from sklearn.preprocessing import StandardScaler\n",
    "from sklearn.model_selection import train_test_split\n",
    "from sklearn.metrics import confusion_matrix"
   ]
  },
  {
   "cell_type": "markdown",
   "id": "8db9a82f",
   "metadata": {},
   "source": [
    "### Import the dataset and take a look at it"
   ]
  },
  {
   "cell_type": "code",
   "execution_count": 44,
   "id": "75d83588",
   "metadata": {},
   "outputs": [],
   "source": [
    "df = pd.read_csv('SBAcase.11.13.17.csv')"
   ]
  },
  {
   "cell_type": "code",
   "execution_count": 45,
   "id": "7be967cc",
   "metadata": {},
   "outputs": [
    {
     "data": {
      "text/html": [
       "<div>\n",
       "<style scoped>\n",
       "    .dataframe tbody tr th:only-of-type {\n",
       "        vertical-align: middle;\n",
       "    }\n",
       "\n",
       "    .dataframe tbody tr th {\n",
       "        vertical-align: top;\n",
       "    }\n",
       "\n",
       "    .dataframe thead th {\n",
       "        text-align: right;\n",
       "    }\n",
       "</style>\n",
       "<table border=\"1\" class=\"dataframe\">\n",
       "  <thead>\n",
       "    <tr style=\"text-align: right;\">\n",
       "      <th></th>\n",
       "      <th>Selected</th>\n",
       "      <th>LoanNr_ChkDgt</th>\n",
       "      <th>Name</th>\n",
       "      <th>City</th>\n",
       "      <th>State</th>\n",
       "      <th>Zip</th>\n",
       "      <th>Bank</th>\n",
       "      <th>BankState</th>\n",
       "      <th>NAICS</th>\n",
       "      <th>ApprovalDate</th>\n",
       "      <th>...</th>\n",
       "      <th>ChgOffPrinGr</th>\n",
       "      <th>GrAppv</th>\n",
       "      <th>SBA_Appv</th>\n",
       "      <th>New</th>\n",
       "      <th>RealEstate</th>\n",
       "      <th>Portion</th>\n",
       "      <th>Recession</th>\n",
       "      <th>daysterm</th>\n",
       "      <th>xx</th>\n",
       "      <th>Default</th>\n",
       "    </tr>\n",
       "  </thead>\n",
       "  <tbody>\n",
       "    <tr>\n",
       "      <th>0</th>\n",
       "      <td>0</td>\n",
       "      <td>1004285007</td>\n",
       "      <td>SIMPLEX OFFICE SOLUTIONS</td>\n",
       "      <td>ANAHEIM</td>\n",
       "      <td>CA</td>\n",
       "      <td>92801</td>\n",
       "      <td>CALIFORNIA BANK &amp; TRUST</td>\n",
       "      <td>CA</td>\n",
       "      <td>532420</td>\n",
       "      <td>15074</td>\n",
       "      <td>...</td>\n",
       "      <td>0</td>\n",
       "      <td>30000</td>\n",
       "      <td>15000</td>\n",
       "      <td>0</td>\n",
       "      <td>0</td>\n",
       "      <td>0.5</td>\n",
       "      <td>0</td>\n",
       "      <td>1080</td>\n",
       "      <td>16175.0</td>\n",
       "      <td>0</td>\n",
       "    </tr>\n",
       "    <tr>\n",
       "      <th>1</th>\n",
       "      <td>1</td>\n",
       "      <td>1004535010</td>\n",
       "      <td>DREAM HOME REALTY</td>\n",
       "      <td>TORRANCE</td>\n",
       "      <td>CA</td>\n",
       "      <td>90505</td>\n",
       "      <td>CALIFORNIA BANK &amp; TRUST</td>\n",
       "      <td>CA</td>\n",
       "      <td>531210</td>\n",
       "      <td>15130</td>\n",
       "      <td>...</td>\n",
       "      <td>0</td>\n",
       "      <td>30000</td>\n",
       "      <td>15000</td>\n",
       "      <td>0</td>\n",
       "      <td>0</td>\n",
       "      <td>0.5</td>\n",
       "      <td>1</td>\n",
       "      <td>1680</td>\n",
       "      <td>17658.0</td>\n",
       "      <td>0</td>\n",
       "    </tr>\n",
       "    <tr>\n",
       "      <th>2</th>\n",
       "      <td>0</td>\n",
       "      <td>1005005006</td>\n",
       "      <td>Winset, Inc. dba Bankers Hill</td>\n",
       "      <td>SAN DIEGO</td>\n",
       "      <td>CA</td>\n",
       "      <td>92103</td>\n",
       "      <td>CALIFORNIA BANK &amp; TRUST</td>\n",
       "      <td>CA</td>\n",
       "      <td>531210</td>\n",
       "      <td>15188</td>\n",
       "      <td>...</td>\n",
       "      <td>0</td>\n",
       "      <td>30000</td>\n",
       "      <td>15000</td>\n",
       "      <td>0</td>\n",
       "      <td>0</td>\n",
       "      <td>0.5</td>\n",
       "      <td>0</td>\n",
       "      <td>1080</td>\n",
       "      <td>16298.0</td>\n",
       "      <td>0</td>\n",
       "    </tr>\n",
       "    <tr>\n",
       "      <th>3</th>\n",
       "      <td>1</td>\n",
       "      <td>1005535001</td>\n",
       "      <td>Shiva Management</td>\n",
       "      <td>SAN DIEGO</td>\n",
       "      <td>CA</td>\n",
       "      <td>92108</td>\n",
       "      <td>CALIFORNIA BANK &amp; TRUST</td>\n",
       "      <td>CA</td>\n",
       "      <td>531312</td>\n",
       "      <td>15719</td>\n",
       "      <td>...</td>\n",
       "      <td>0</td>\n",
       "      <td>50000</td>\n",
       "      <td>25000</td>\n",
       "      <td>0</td>\n",
       "      <td>0</td>\n",
       "      <td>0.5</td>\n",
       "      <td>0</td>\n",
       "      <td>1080</td>\n",
       "      <td>16816.0</td>\n",
       "      <td>0</td>\n",
       "    </tr>\n",
       "    <tr>\n",
       "      <th>4</th>\n",
       "      <td>1</td>\n",
       "      <td>1005996006</td>\n",
       "      <td>GOLD CROWN HOME LOANS, INC</td>\n",
       "      <td>LOS ANGELES</td>\n",
       "      <td>CA</td>\n",
       "      <td>91345</td>\n",
       "      <td>SBA - EDF ENFORCEMENT ACTION</td>\n",
       "      <td>CO</td>\n",
       "      <td>531390</td>\n",
       "      <td>16840</td>\n",
       "      <td>...</td>\n",
       "      <td>0</td>\n",
       "      <td>343000</td>\n",
       "      <td>343000</td>\n",
       "      <td>0</td>\n",
       "      <td>1</td>\n",
       "      <td>1.0</td>\n",
       "      <td>0</td>\n",
       "      <td>7200</td>\n",
       "      <td>24103.0</td>\n",
       "      <td>0</td>\n",
       "    </tr>\n",
       "  </tbody>\n",
       "</table>\n",
       "<p>5 rows × 35 columns</p>\n",
       "</div>"
      ],
      "text/plain": [
       "   Selected  LoanNr_ChkDgt                           Name         City State  \\\n",
       "0         0     1004285007       SIMPLEX OFFICE SOLUTIONS      ANAHEIM    CA   \n",
       "1         1     1004535010              DREAM HOME REALTY     TORRANCE    CA   \n",
       "2         0     1005005006  Winset, Inc. dba Bankers Hill    SAN DIEGO    CA   \n",
       "3         1     1005535001               Shiva Management    SAN DIEGO    CA   \n",
       "4         1     1005996006     GOLD CROWN HOME LOANS, INC  LOS ANGELES    CA   \n",
       "\n",
       "     Zip                          Bank BankState   NAICS  ApprovalDate  ...  \\\n",
       "0  92801       CALIFORNIA BANK & TRUST        CA  532420         15074  ...   \n",
       "1  90505       CALIFORNIA BANK & TRUST        CA  531210         15130  ...   \n",
       "2  92103       CALIFORNIA BANK & TRUST        CA  531210         15188  ...   \n",
       "3  92108       CALIFORNIA BANK & TRUST        CA  531312         15719  ...   \n",
       "4  91345  SBA - EDF ENFORCEMENT ACTION        CO  531390         16840  ...   \n",
       "\n",
       "   ChgOffPrinGr  GrAppv  SBA_Appv  New  RealEstate  Portion  Recession  \\\n",
       "0             0   30000     15000    0           0      0.5          0   \n",
       "1             0   30000     15000    0           0      0.5          1   \n",
       "2             0   30000     15000    0           0      0.5          0   \n",
       "3             0   50000     25000    0           0      0.5          0   \n",
       "4             0  343000    343000    0           1      1.0          0   \n",
       "\n",
       "   daysterm       xx Default  \n",
       "0      1080  16175.0       0  \n",
       "1      1680  17658.0       0  \n",
       "2      1080  16298.0       0  \n",
       "3      1080  16816.0       0  \n",
       "4      7200  24103.0       0  \n",
       "\n",
       "[5 rows x 35 columns]"
      ]
     },
     "execution_count": 45,
     "metadata": {},
     "output_type": "execute_result"
    }
   ],
   "source": [
    "df.head()"
   ]
  },
  {
   "cell_type": "markdown",
   "id": "41de1217",
   "metadata": {},
   "source": [
    "### Figure out what columns I can use and store the in a variable"
   ]
  },
  {
   "cell_type": "code",
   "execution_count": 81,
   "id": "541e63b8",
   "metadata": {},
   "outputs": [],
   "source": [
    "data = df[['Zip', 'ApprovalDate', 'SBA_Appv', 'GrAppv', 'RealEstate', 'Recession', 'daysterm']]\n",
    "labels = df[['Default']]"
   ]
  },
  {
   "cell_type": "markdown",
   "id": "200b292f",
   "metadata": {},
   "source": [
    "### Scale the data, here I have used sklearn's scaler function"
   ]
  },
  {
   "cell_type": "code",
   "execution_count": 82,
   "id": "c267d939",
   "metadata": {},
   "outputs": [
    {
     "name": "stdout",
     "output_type": "stream",
     "text": [
      "[[ 0.05452648 -0.76007036 -0.58280934 ... -0.61511028 -0.27119077\n",
      "  -0.97018303]\n",
      " [-1.16820594 -0.72157141 -0.58280934 ... -0.61511028  3.68744115\n",
      "  -0.75691028]\n",
      " [-0.3171927  -0.6816975  -0.58280934 ... -0.61511028 -0.27119077\n",
      "  -0.97018303]\n",
      " ...\n",
      " [ 0.16689431 -1.82085391 -0.49915693 ... -0.61511028 -0.27119077\n",
      "  -0.45832842]\n",
      " [-0.71713697 -1.81329161  0.62178543 ... -0.61511028 -0.27119077\n",
      "  -0.07443747]\n",
      " [-1.40092984 -1.8029794  -0.5744441  ... -0.61511028 -0.27119077\n",
      "  -0.71425573]]\n"
     ]
    }
   ],
   "source": [
    "scaler = StandardScaler()\n",
    "scaler.fit(data)\n",
    "scaled_data = scaler.transform(data)\n",
    "print(scaled_data)"
   ]
  },
  {
   "cell_type": "code",
   "execution_count": 83,
   "id": "6bbfed30",
   "metadata": {},
   "outputs": [],
   "source": [
    "model = LogisticRegression()"
   ]
  },
  {
   "cell_type": "markdown",
   "id": "3a605e1a",
   "metadata": {},
   "source": [
    "### Split the data in to training sets, testing sets, training labels and testing labels"
   ]
  },
  {
   "cell_type": "code",
   "execution_count": 84,
   "id": "72071dc0",
   "metadata": {},
   "outputs": [],
   "source": [
    "X_train, X_test, y_train, y_test = train_test_split(scaled_data, labels)"
   ]
  },
  {
   "cell_type": "markdown",
   "id": "6232d1fc",
   "metadata": {},
   "source": [
    "### Train the model"
   ]
  },
  {
   "cell_type": "code",
   "execution_count": 85,
   "id": "f9ec7fa0",
   "metadata": {},
   "outputs": [
    {
     "data": {
      "text/plain": [
       "LogisticRegression()"
      ]
     },
     "execution_count": 85,
     "metadata": {},
     "output_type": "execute_result"
    }
   ],
   "source": [
    "model.fit(X_train, y_train.values.ravel())"
   ]
  },
  {
   "cell_type": "markdown",
   "id": "697f92f8",
   "metadata": {},
   "source": [
    "### Print out the models coefficients. This can tell me how much a change in a variable can affect the outcome."
   ]
  },
  {
   "cell_type": "code",
   "execution_count": 86,
   "id": "a8b17a60",
   "metadata": {},
   "outputs": [
    {
     "name": "stdout",
     "output_type": "stream",
     "text": [
      "[[ 0.02519057  1.2713199  -1.64523483  1.54826411  2.37337717  0.06685788\n",
      "  -3.6740223 ]]\n"
     ]
    }
   ],
   "source": [
    "print(model.coef_)"
   ]
  },
  {
   "cell_type": "code",
   "execution_count": 87,
   "id": "f6b90055",
   "metadata": {},
   "outputs": [
    {
     "name": "stdout",
     "output_type": "stream",
     "text": [
      "[-1.57067453]\n"
     ]
    }
   ],
   "source": [
    "print(model.intercept_)"
   ]
  },
  {
   "cell_type": "markdown",
   "id": "13111365",
   "metadata": {},
   "source": [
    "### Here I can use the test data to test how accurate the model is."
   ]
  },
  {
   "cell_type": "code",
   "execution_count": 88,
   "id": "564a57b3",
   "metadata": {},
   "outputs": [],
   "source": [
    "y_pred = model.predict(X_test)"
   ]
  },
  {
   "cell_type": "markdown",
   "id": "c46265f3",
   "metadata": {},
   "source": [
    "### I can then print out a confusion matrix to get an easy understanding of how many predictions were correct or incorrect"
   ]
  },
  {
   "cell_type": "code",
   "execution_count": 93,
   "id": "c13fd81e",
   "metadata": {},
   "outputs": [
    {
     "name": "stdout",
     "output_type": "stream",
     "text": [
      "[[319  25]\n",
      " [ 41 141]]\n"
     ]
    }
   ],
   "source": [
    "print(confusion_matrix(y_test, y_pred))"
   ]
  },
  {
   "cell_type": "markdown",
   "id": "6e817f8c",
   "metadata": {},
   "source": [
    "### I can now use the model to predict to see if a pretend subject will pass or default on their loan"
   ]
  },
  {
   "cell_type": "code",
   "execution_count": 94,
   "id": "a2d6a66d",
   "metadata": {},
   "outputs": [],
   "source": [
    "test = [[90801, 15574, 15000, 30000, 0, 1, 1080]]\n",
    "test = scaler.transform(test)\n",
    "\n",
    "future_predict = model.predict(test)"
   ]
  },
  {
   "cell_type": "code",
   "execution_count": 95,
   "id": "f7747cb0",
   "metadata": {},
   "outputs": [
    {
     "name": "stdout",
     "output_type": "stream",
     "text": [
      "[1]\n"
     ]
    }
   ],
   "source": [
    "print(predict_test)"
   ]
  },
  {
   "cell_type": "markdown",
   "id": "ac0dd865",
   "metadata": {},
   "source": [
    "### This model could then be used by banks to predict whether or not someone will default and therefore can use it to see if they will gove the loan in the first place."
   ]
  },
  {
   "cell_type": "code",
   "execution_count": null,
   "id": "22407949",
   "metadata": {},
   "outputs": [],
   "source": []
  }
 ],
 "metadata": {
  "kernelspec": {
   "display_name": "Python 3 (ipykernel)",
   "language": "python",
   "name": "python3"
  },
  "language_info": {
   "codemirror_mode": {
    "name": "ipython",
    "version": 3
   },
   "file_extension": ".py",
   "mimetype": "text/x-python",
   "name": "python",
   "nbconvert_exporter": "python",
   "pygments_lexer": "ipython3",
   "version": "3.9.7"
  }
 },
 "nbformat": 4,
 "nbformat_minor": 5
}
